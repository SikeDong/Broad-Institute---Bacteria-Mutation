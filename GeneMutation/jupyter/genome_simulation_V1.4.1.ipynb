{
 "cells": [
  {
   "cell_type": "markdown",
   "metadata": {},
   "source": [
    "__Tips: Please install Bio before running by:__\n",
    "pip install biopython"
   ]
  },
  {
   "cell_type": "code",
   "execution_count": 69,
   "metadata": {
    "collapsed": true,
    "scrolled": true
   },
   "outputs": [],
   "source": [
    "# python3 genome_simulation.py --ini='bacteria.ini' --data='Escherichia_coli_DH10B.fasta'\n",
    "from configparser import ConfigParser\n",
    "import optparse\n",
    "import random, os, sys\n",
    "\n",
    "import logging\n",
    "from datetime import datetime\n",
    "import numpy as np\n",
    "import calendar;\n",
    "import time;\n",
    "from Bio import SeqIO \n",
    "from decimal import *"
   ]
  },
  {
   "cell_type": "markdown",
   "metadata": {},
   "source": [
    "#### Step 0. Function definition:\n",
    "__A. parse_file(filename, formatname, length):__ Return the sequencing from file with specified format and length.  \n",
    "__B. mutate_prob(target_bases_list, prob):__ Mutate the base by picking from bases list with probability.  \n",
    "__C. mutation_simulate(ori_seq):__ Mutate the original sequencing by probability/flipping and return the mutated sequencing, and how many bases have been mutated."
   ]
  },
  {
   "cell_type": "code",
   "execution_count": 70,
   "metadata": {
    "collapsed": true
   },
   "outputs": [],
   "source": [
    "def parse_file(filename, formatname, length): \n",
    "    '''\n",
    "        filename: file path\n",
    "        formatname: 'fasta', 'abi', 'genbank or gb' etc...\n",
    "        length: top number for snipping\n",
    "    '''\n",
    "    with open(filename, \"rU\") as handle:\n",
    "        for record in SeqIO.parse(handle, formatname) :\n",
    "            if len(record.seq)>length:\n",
    "                base_top = record.seq[:length]\n",
    "        return record, base_top"
   ]
  },
  {
   "cell_type": "code",
   "execution_count": 71,
   "metadata": {
    "collapsed": true
   },
   "outputs": [],
   "source": [
    "def mutate_prob(target_bases_list, prob1): \n",
    "    picked_base = np.random.choice(target_bases_list, 1, prob1) #Pick 1 from target list based on prob1.\n",
    "    return picked_base"
   ]
  },
  {
   "cell_type": "code",
   "execution_count": 72,
   "metadata": {
    "collapsed": true
   },
   "outputs": [],
   "source": [
    "def mutation_simulate(ori_seq):\n",
    "    count=0\n",
    "    mutated_seq=[]\n",
    "\n",
    "    for ori_base in ori_seq:\n",
    "        flip = np.random.uniform(0, 1)\n",
    "        #print('flip on ', ori_base, flip)\n",
    "        \n",
    "        lambda_list = list(conf_lamba)\n",
    "        picked_lamba = np.random.choice(lambda_list, 1)\n",
    "    \n",
    "        # For C base: transit to A or G by flip probability (if flip < lamda picked randomly from configuration lambda list.)\n",
    "        if (ori_base == 'C') and (flip <= picked_lamba): #C-> G or A\n",
    "            mutated_base = mutate_prob(['A','G'], flip)  #Pick 1 from target list based on flip.\n",
    "            count+=1\n",
    "            if mutated_base:\n",
    "                #print ('(Mutated', ori_base, ' to: ', mutated_base, ' flip: ', flip, 'lambda: ', picked_lamba, ')')\n",
    "                mutated_seq.append(mutated_base)   \n",
    "            else:\n",
    "                mutated_seq.append(ori_base)\n",
    "                \n",
    "        # For G base: transit to C or T by flip probability (if flip < lamda picked randomly from configuration lambda list.)       \n",
    "        elif (ori_base == 'G') and (flip <= picked_lamba): #G-> C or T\n",
    "            mutated_base = mutate_prob(['C','T'], flip)  #Pick 1 from target list based on flip.\n",
    "            count+=1\n",
    "            if mutated_base:\n",
    "                #print ('(Mutated', ori_base, ' to: ', mutated_base, ' flip: ', flip, 'lambda: ', picked_lamba, ')')\n",
    "                mutated_seq.append(mutated_base)   \n",
    "            else:\n",
    "                mutated_seq.append(ori_base)            \n",
    "        else:\n",
    "            mutated_seq.append(ori_base)\n",
    "\n",
    "    return mutated_seq, count"
   ]
  },
  {
   "cell_type": "markdown",
   "metadata": {},
   "source": [
    "#### Step 1. Please configure these parameters accordingly before running:\n",
    "- ALL parameters in configuration will be kept in the format of 'conf_XXXXX' for easily recognization."
   ]
  },
  {
   "cell_type": "code",
   "execution_count": 73,
   "metadata": {
    "collapsed": true,
    "scrolled": true
   },
   "outputs": [],
   "source": [
    "#[lamba]\n",
    "# conf_lamba_min/max: It is on a per generation basis ... update mutation rate to different values within the range. \n",
    "# conf_lamba_min/max:Start by one generation the min rate then the next the max rate then the min rate etc\n",
    "# conf_lamba_min=0.1 \n",
    "# conf_lamba_max=0.5\n",
    "\n",
    "# conf_lamba: can have multiple lambas\n",
    "conf_lamba=0.2,0.1,0.3\n",
    "conf_generation=7\n",
    "\n",
    "#[mutation]\n",
    "# run_times: How many mutated seqs will be generated.\n",
    "conf_run_times=4 \n",
    "conf_numrows=1\n",
    "\n",
    "#[fasta]\n",
    "# conf_filepath: The path of fasta file.\n",
    "conf_filepath = '../Escherichia_coli_DH10B.fasta'\n",
    "# conf_top_num: How many bases could be kept from fasta file.\n",
    "conf_top_num = 40 \n",
    "# conf_generated_file_format: specify the format will be generated with: '.nex','.txt' etc.\n",
    "conf_generated_file_format = '.txt'\n"
   ]
  },
  {
   "cell_type": "markdown",
   "metadata": {},
   "source": [
    "#### Step 2: Get the specified length of the sequences from the specified file."
   ]
  },
  {
   "cell_type": "code",
   "execution_count": 74,
   "metadata": {
    "collapsed": true
   },
   "outputs": [],
   "source": [
    "# 0. FAKE seq for testing:\n",
    "# ori_seq='AGCTACTGGC'"
   ]
  },
  {
   "cell_type": "code",
   "execution_count": 75,
   "metadata": {
    "scrolled": false
   },
   "outputs": [
    {
     "name": "stdout",
     "output_type": "stream",
     "text": [
      "AGCTTTTCATTCTGACTGCAACGGGCAATATGTCTCTGTG\n"
     ]
    },
    {
     "name": "stderr",
     "output_type": "stream",
     "text": [
      "/Users/sikedong/anaconda3/lib/python3.6/site-packages/ipykernel_launcher.py:7: DeprecationWarning: 'U' mode is deprecated\n",
      "  import sys\n"
     ]
    }
   ],
   "source": [
    "# Get the trimmed seq string from specified file.\n",
    "record, base_top = parse_file(conf_filepath, \"fasta\", int(conf_top_num))\n",
    "ori_seq = str(base_top)\n",
    "print(ori_seq)"
   ]
  },
  {
   "cell_type": "markdown",
   "metadata": {},
   "source": [
    "#### Step 3: Generate the mutated sequences with specified times and write these mutated sequeces to file with specified format.\n",
    "- In this case, write the mutated sequeces in .nex file.  \n",
    "- The file will be named with timestamp.  \n",
    "- e.g.: __Generated file: GBAC_<Generation\\><mutation_rate\\>Seq__  \n",
    "GBAC_7_0.2 AGCTTTTCATTCTGACTGAAACGGGCAATATGTCTCTGTG  \n",
    "GBAC_7_0.2 AGATTTTCATTCTGACTGCAACGGTCAATATGTCTCTGTG  \n",
    "GBAC_7_0.2 AGCTTTTCATTCTGACTGCAACGCGCAATATTTCTATCTC  \n",
    "GBAC_7_0.2 AGATTTTCATTCTGACTTCAACGCGAAATATGTCTCTGTG  \n",
    "GBAC_7_0.2 AGCTTTTCATTCTGACTGCAACGGGCAATATGTCTCTGTG  "
   ]
  },
  {
   "cell_type": "code",
   "execution_count": 76,
   "metadata": {
    "scrolled": false
   },
   "outputs": [
    {
     "name": "stdout",
     "output_type": "stream",
     "text": [
      "1565734419\n"
     ]
    }
   ],
   "source": [
    "# Generate file name with timestamp.\n",
    "timestamp = calendar.timegm(time.gmtime())\n",
    "print(timestamp)\n",
    "mut_seq_nexfilepath = \"file_generated\\\\\"+\"SimSeqFile_\"+ str(timestamp) + conf_generated_file_format"
   ]
  },
  {
   "cell_type": "code",
   "execution_count": 77,
   "metadata": {
    "collapsed": true
   },
   "outputs": [],
   "source": [
    "def compare_seq(seq1, seq2):\n",
    "    diff_seq = ''\n",
    "    diff_index = ''\n",
    "    diff=''\n",
    "    \n",
    "    if len(seq1) == len(seq2):\n",
    "        for i in range(0, len(seq1)):\n",
    "            if seq1[i]!=seq2[i]:\n",
    "                diff_seq+=seq2[i]\n",
    "                diff_index+=str(i)+','\n",
    "        diff = diff_seq +' '+ diff_index\n",
    "        \n",
    "    else:\n",
    "        return null\n",
    "    \n",
    "    return diff"
   ]
  },
  {
   "cell_type": "code",
   "execution_count": 78,
   "metadata": {
    "collapsed": true
   },
   "outputs": [],
   "source": [
    "#Sike difference marker\n",
    "def dna_seq_compare(ori_seq, mutated_seq):\n",
    "    len1 = len(ori_seq)\n",
    "    len2 = len(mutated_seq)\n",
    "    mismatches = []\n",
    "    for pos in range (0, min(len1, len2)):\n",
    "        if ori_seq[pos]!= mutated_seq[pos]:\n",
    "            mismatches.append(\"|\")\n",
    "        else:\n",
    "            mismatches.append(\" \")\n",
    "    mismatches = \"\".join(mismatches)\n",
    "\n",
    "    return mismatches+'\\n'+ mutated_seq"
   ]
  },
  {
   "cell_type": "code",
   "execution_count": 79,
   "metadata": {
    "collapsed": true
   },
   "outputs": [],
   "source": [
    "#Sike compare two sequences, equal = 0, different = 1\n",
    "def dna_seq_compare_equality(seq1, seq2):\n",
    "    len1 = len(seq1)\n",
    "    len2 = len(seq2)\n",
    "    result = []\n",
    "    if len(seq1) == len(seq2):\n",
    "        for i in range(0, min(len1, len2)):\n",
    "            if seq1[i]!=seq2[i]:\n",
    "                result.append(\"1\")\n",
    "            else:\n",
    "                result.append(\"0\")\n",
    "    result = \"\".join(result)\n",
    "\n",
    "    return result +'\\n'"
   ]
  },
  {
   "cell_type": "code",
   "execution_count": 80,
   "metadata": {
    "scrolled": false
   },
   "outputs": [
    {
     "name": "stdout",
     "output_type": "stream",
     "text": [
      "AGCTTTTCATTCTGACTGCAACGGGCAATATGTCTCTGTG\n",
      "                       |       | |      \n",
      "AGCTTTTCATTCTGACTGCAACGTGCAATATTTGTCTGTG\n",
      "\n",
      "0000000000000000000000010000000101000000\n",
      "\n",
      "\n",
      "AGCTTTTCATTCTGACTGCAACGGGCAATATGTCTCTGTG\n",
      " |         |   | ||    ||      |        \n",
      "ATCTTTTCATTGTGAGTTAAACGTTCAATATCTCTCTGTG\n",
      "\n",
      "0100000000010001011000011000000100000000\n",
      "\n",
      "\n",
      "AGCTTTTCATTCTGACTGCAACGGGCAATATGTCTCTGTG\n",
      "           |           ||            |  \n",
      "AGCTTTTCATTGTGACTGCAACGCCCAATATGTCTCTTTG\n",
      "\n",
      "0000000000010000000000011000000000000100\n",
      "\n",
      "\n",
      "AGCTTTTCATTCTGACTGCAACGGGCAATATGTCTCTGTG\n",
      "                               |        \n",
      "AGCTTTTCATTCTGACTGCAACGGGCAATATCTCTCTGTG\n",
      "\n",
      "0000000000000000000000000000000100000000\n",
      "\n",
      "\n",
      "1 time(s) mutation: TTG 23,31,33,\n",
      "2 time(s) mutation: TGGTATTC 1,11,15,17,18,23,24,31,\n",
      "3 time(s) mutation: GCCT 11,23,24,37,\n",
      "4 time(s) mutation: C 31,\n",
      "\n",
      "Result:\n",
      "0000000000000000000000010000000101000000\n",
      "\n",
      "\n",
      "0100000000010001011000011000000100000000\n",
      "\n",
      "\n",
      "0000000000010000000000011000000000000100\n",
      "\n",
      "\n",
      "0000000000000000000000000000000100000000\n",
      "\n",
      "\n",
      "\n"
     ]
    }
   ],
   "source": [
    "multi_mutated_seq=''\n",
    "diff_str=''\n",
    "mark_str = ''\n",
    "compare_ori_mut='Result:'+'\\n'\n",
    "multi_mutated_seq='Original_Sequencing: ' + ori_seq+ '\\n'\n",
    "\n",
    "for run_time in range(conf_run_times):\n",
    "    # print('\\nMutating...', run_time+1, 'times: ')\n",
    "    mutated_seq_file_list,count = mutation_simulate(ori_seq) #Tuple return: mutation_simulate(): mutated_seq, count. Get mutated_seq.\n",
    "        \n",
    "    #seq_num = 'GBAC_' + str(conf_generation)+'_'+ str(conf_lamba)\n",
    "    mutated_seq= ''.join([''.join(base) for base in mutated_seq_file_list])\n",
    "    #multi_mutated_seq += seq_num +':'+ mutated_seq+'\\n'\n",
    "    \n",
    "    diff_str += str(run_time+1) +' time(s) mutation: '+ compare_seq(ori_seq, mutated_seq)+'\\n'\n",
    "    \n",
    "    #Sike difference marker, compare two sequences, equal = 0, different = 1\n",
    "    str_diff_result = ori_seq + '\\n'+ dna_seq_compare(ori_seq, mutated_seq) + '\\n' \n",
    "    print(str_diff_result)\n",
    "    mark_str += str_diff_result + '\\n'\n",
    "    compare_result = dna_seq_compare_equality(ori_seq, mutated_seq) + '\\n' \n",
    "    print(compare_result)\n",
    "    compare_ori_mut += compare_result + '\\n'\n",
    "    \n",
    "#print(mutated_seq)\n",
    "#print(multi_mutated_seq)\n",
    "print(diff_str)\n",
    "print(compare_ori_mut)"
   ]
  },
  {
   "cell_type": "code",
   "execution_count": 81,
   "metadata": {
    "collapsed": true
   },
   "outputs": [],
   "source": [
    "def write_file(filepath, content):\n",
    "    with open(filepath, \"w\") as file:\n",
    "        file.write(content)\n",
    "        print('Done. Wrote to: ', filepath)"
   ]
  },
  {
   "cell_type": "code",
   "execution_count": 82,
   "metadata": {},
   "outputs": [
    {
     "name": "stdout",
     "output_type": "stream",
     "text": [
      "Done. Wrote to:  file_generated\\SimSeqFile_1565734419.txt\n"
     ]
    }
   ],
   "source": [
    "write_file(mut_seq_nexfilepath, diff_str)"
   ]
  },
  {
   "cell_type": "code",
   "execution_count": 83,
   "metadata": {},
   "outputs": [
    {
     "name": "stdout",
     "output_type": "stream",
     "text": [
      "Done. Wrote to:  file_generated\\Diff_Ori_Mut_1565734419.txt\n"
     ]
    }
   ],
   "source": [
    "diff_filepath = \"file_generated\\\\\" +\"Diff_Ori_Mut_\" + str(timestamp) + conf_generated_file_format\n",
    "write_file(diff_filepath, mark_str)"
   ]
  },
  {
   "cell_type": "code",
   "execution_count": 84,
   "metadata": {},
   "outputs": [
    {
     "name": "stdout",
     "output_type": "stream",
     "text": [
      "Done. Wrote to:  file_generated\\Comp_Ori_Mut_1565734419.txt\n"
     ]
    }
   ],
   "source": [
    "compare_filepath = \"file_generated\\\\\" +\"Comp_Ori_Mut_\" + str(timestamp) + conf_generated_file_format\n",
    "write_file(compare_filepath, compare_ori_mut)"
   ]
  },
  {
   "cell_type": "code",
   "execution_count": 108,
   "metadata": {
    "collapsed": true
   },
   "outputs": [],
   "source": [
    "#Sike - dendrogram\n",
    "import pandas as pd\n",
    "import scipy \n",
    "from scipy.cluster.hierarchy import dendrogram, linkage\n",
    "from scipy.spatial import distance\n",
    "from scipy.spatial.distance import pdist\n",
    "import matplotlib.pyplot as plt"
   ]
  },
  {
   "cell_type": "code",
   "execution_count": 131,
   "metadata": {},
   "outputs": [
    {
     "data": {
      "text/html": [
       "<div>\n",
       "<style>\n",
       "    .dataframe thead tr:only-child th {\n",
       "        text-align: right;\n",
       "    }\n",
       "\n",
       "    .dataframe thead th {\n",
       "        text-align: left;\n",
       "    }\n",
       "\n",
       "    .dataframe tbody tr th {\n",
       "        vertical-align: top;\n",
       "    }\n",
       "</style>\n",
       "<table border=\"1\" class=\"dataframe\">\n",
       "  <thead>\n",
       "    <tr style=\"text-align: right;\">\n",
       "      <th></th>\n",
       "    </tr>\n",
       "    <tr>\n",
       "      <th>Result:</th>\n",
       "    </tr>\n",
       "  </thead>\n",
       "  <tbody>\n",
       "    <tr>\n",
       "      <th>0000000000000000000000010000000101000000</th>\n",
       "    </tr>\n",
       "    <tr>\n",
       "      <th>0100000000010001011000011000000100000000</th>\n",
       "    </tr>\n",
       "    <tr>\n",
       "      <th>0000000000010000000000011000000000000100</th>\n",
       "    </tr>\n",
       "    <tr>\n",
       "      <th>0000000000000000000000000000000100000000</th>\n",
       "    </tr>\n",
       "  </tbody>\n",
       "</table>\n",
       "</div>"
      ],
      "text/plain": [
       "Empty DataFrame\n",
       "Columns: []\n",
       "Index: [0000000000000000000000010000000101000000, 0100000000010001011000011000000100000000, 0000000000010000000000011000000000000100, 0000000000000000000000000000000100000000]"
      ]
     },
     "execution_count": 131,
     "metadata": {},
     "output_type": "execute_result"
    }
   ],
   "source": [
    "datafile = 'file_generated\\Comp_Ori_Mut_1565734419.txt'\n",
    "df = pd.read_csv(datafile, sep='\\t')\n",
    "df = df.set_index('Result:')\n",
    "df"
   ]
  },
  {
   "cell_type": "code",
   "execution_count": 143,
   "metadata": {},
   "outputs": [
    {
     "data": {
      "text/plain": [
       "Series([], dtype: object)"
      ]
     },
     "execution_count": 143,
     "metadata": {},
     "output_type": "execute_result"
    }
   ],
   "source": [
    "df.dtypes"
   ]
  },
  {
   "cell_type": "code",
   "execution_count": 144,
   "metadata": {},
   "outputs": [
    {
     "ename": "ValueError",
     "evalue": "The condensed distance matrix must contain only finite values.",
     "output_type": "error",
     "traceback": [
      "\u001b[0;31m---------------------------------------------------------------------------\u001b[0m",
      "\u001b[0;31mValueError\u001b[0m                                Traceback (most recent call last)",
      "\u001b[0;32m<ipython-input-144-c92cb99149e9>\u001b[0m in \u001b[0;36m<module>\u001b[0;34m()\u001b[0m\n\u001b[1;32m      1\u001b[0m \u001b[0mY\u001b[0m\u001b[0;34m=\u001b[0m\u001b[0mpdist\u001b[0m\u001b[0;34m(\u001b[0m\u001b[0mdf_gene\u001b[0m\u001b[0;34m,\u001b[0m\u001b[0;34m'hamming'\u001b[0m\u001b[0;34m)\u001b[0m\u001b[0;34m\u001b[0m\u001b[0m\n\u001b[0;32m----> 2\u001b[0;31m \u001b[0mZ\u001b[0m\u001b[0;34m=\u001b[0m\u001b[0mlinkage\u001b[0m\u001b[0;34m(\u001b[0m\u001b[0mY\u001b[0m\u001b[0;34m,\u001b[0m\u001b[0;34m'single'\u001b[0m\u001b[0;34m)\u001b[0m\u001b[0;34m\u001b[0m\u001b[0m\n\u001b[0m\u001b[1;32m      3\u001b[0m \u001b[0mplt\u001b[0m\u001b[0;34m.\u001b[0m\u001b[0mtitle\u001b[0m\u001b[0;34m(\u001b[0m\u001b[0;34m'Gene Mutation'\u001b[0m\u001b[0;34m)\u001b[0m\u001b[0;34m\u001b[0m\u001b[0m\n\u001b[1;32m      4\u001b[0m \u001b[0mplt\u001b[0m\u001b[0;34m.\u001b[0m\u001b[0mxlabel\u001b[0m\u001b[0;34m(\u001b[0m\u001b[0;34m'Gene Diifference'\u001b[0m\u001b[0;34m)\u001b[0m\u001b[0;34m\u001b[0m\u001b[0m\n\u001b[1;32m      5\u001b[0m \u001b[0mplt\u001b[0m\u001b[0;34m.\u001b[0m\u001b[0mylabel\u001b[0m\u001b[0;34m(\u001b[0m\u001b[0;34m'distance'\u001b[0m\u001b[0;34m)\u001b[0m\u001b[0;34m\u001b[0m\u001b[0m\n",
      "\u001b[0;32m~/anaconda3/lib/python3.6/site-packages/scipy/cluster/hierarchy.py\u001b[0m in \u001b[0;36mlinkage\u001b[0;34m(y, method, metric)\u001b[0m\n\u001b[1;32m    674\u001b[0m \u001b[0;34m\u001b[0m\u001b[0m\n\u001b[1;32m    675\u001b[0m     \u001b[0;32mif\u001b[0m \u001b[0;32mnot\u001b[0m \u001b[0mnp\u001b[0m\u001b[0;34m.\u001b[0m\u001b[0mall\u001b[0m\u001b[0;34m(\u001b[0m\u001b[0mnp\u001b[0m\u001b[0;34m.\u001b[0m\u001b[0misfinite\u001b[0m\u001b[0;34m(\u001b[0m\u001b[0my\u001b[0m\u001b[0;34m)\u001b[0m\u001b[0;34m)\u001b[0m\u001b[0;34m:\u001b[0m\u001b[0;34m\u001b[0m\u001b[0m\n\u001b[0;32m--> 676\u001b[0;31m         \u001b[0;32mraise\u001b[0m \u001b[0mValueError\u001b[0m\u001b[0;34m(\u001b[0m\u001b[0;34m\"The condensed distance matrix must contain only finite values.\"\u001b[0m\u001b[0;34m)\u001b[0m\u001b[0;34m\u001b[0m\u001b[0m\n\u001b[0m\u001b[1;32m    677\u001b[0m \u001b[0;34m\u001b[0m\u001b[0m\n\u001b[1;32m    678\u001b[0m     \u001b[0mn\u001b[0m \u001b[0;34m=\u001b[0m \u001b[0mint\u001b[0m\u001b[0;34m(\u001b[0m\u001b[0mdistance\u001b[0m\u001b[0;34m.\u001b[0m\u001b[0mnum_obs_y\u001b[0m\u001b[0;34m(\u001b[0m\u001b[0my\u001b[0m\u001b[0;34m)\u001b[0m\u001b[0;34m)\u001b[0m\u001b[0;34m\u001b[0m\u001b[0m\n",
      "\u001b[0;31mValueError\u001b[0m: The condensed distance matrix must contain only finite values."
     ]
    }
   ],
   "source": [
    "Y=pdist(df_gene,'hamming')\n",
    "Z=linkage(Y,'single')\n",
    "plt.title('Gene Mutation')\n",
    "plt.xlabel('Gene Diifference')\n",
    "plt.ylabel('distance')\n",
    "dendrogram(Z,labels=df.index, leaf_rotation=90)\n",
    "plt.show()"
   ]
  },
  {
   "cell_type": "code",
   "execution_count": null,
   "metadata": {
    "collapsed": true
   },
   "outputs": [],
   "source": []
  }
 ],
 "metadata": {
  "kernelspec": {
   "display_name": "Python 3",
   "language": "python",
   "name": "python3"
  },
  "language_info": {
   "codemirror_mode": {
    "name": "ipython",
    "version": 3
   },
   "file_extension": ".py",
   "mimetype": "text/x-python",
   "name": "python",
   "nbconvert_exporter": "python",
   "pygments_lexer": "ipython3",
   "version": "3.6.3"
  }
 },
 "nbformat": 4,
 "nbformat_minor": 2
}
